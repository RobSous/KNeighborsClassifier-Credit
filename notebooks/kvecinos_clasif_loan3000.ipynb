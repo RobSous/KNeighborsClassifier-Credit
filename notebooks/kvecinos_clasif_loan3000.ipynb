{
 "cells": [
  {
   "cell_type": "markdown",
   "id": "438b6dc2-b1c3-443d-9cbc-5672e3d1195a",
   "metadata": {},
   "source": [
    "# Un problema de clasificación con k vecinos más cercanos: Credit\n",
    "*Objetivo:* Construir un asistente financiero para predecir el pago de un crédito\n",
    "\n",
    "**NOTA:** Tarea de clasificación."
   ]
  },
  {
   "cell_type": "code",
   "execution_count": 1,
   "id": "6a896f04-5cfa-4b4c-b6e4-ef0c08e419ba",
   "metadata": {},
   "outputs": [],
   "source": [
    "import pandas as pd  # Para manipular los dataframes\n",
    "import numpy as np   # Para operar las matrices de datos y manejo de vectores\n",
    "\n",
    "import seaborn as sns               # Librerias de gráficos\n",
    "import matplotlib.pyplot as plt     # Librerias de gráficos\n",
    "\n",
    "import warnings\n",
    "warnings.filterwarnings(\"ignore\")\n",
    "\n",
    "from sklearn.neighbors import KNeighborsClassifier # Librería de algoritmos de machine learning\n",
    "                                                   # Utilizamos k-vecinos para clasificación \n",
    "\n",
    "from sklearn.feature_selection import SelectKBest, f_classif  # Para seleccionar los \"mejores\" atributos \n",
    "                                                              # f_classif solo para atributos continuos y chi2 para atributos categóricos\n",
    "\n",
    "from sklearn.preprocessing import RobustScaler, MinMaxScaler, StandardScaler  #Para escalar datos\n",
    "from sklearn.metrics import ConfusionMatrixDisplay, confusion_matrix, classification_report  # PAra reportar las métricas\n",
    "from sklearn.model_selection import train_test_split, KFold, RepeatedKFold,StratifiedKFold, cross_val_score, cross_validate  \n",
    "from sklearn.model_selection import GridSearchCV   # Calibración de hiperparámetros\n",
    "from sklearn.pipeline import make_pipeline\n",
    "from scipy import stats"
   ]
  },
  {
   "cell_type": "code",
   "execution_count": 2,
   "id": "42dd84b5-a281-48ab-ba4c-fcd4bcb40273",
   "metadata": {},
   "outputs": [],
   "source": [
    "# Cargar los datos \n",
    "datos=pd.read_csv(\"C:/Users/migue/Documents/DSML_5_Modulo1/datos/loan3000.csv\")"
   ]
  },
  {
   "cell_type": "markdown",
   "id": "8e6d299a-34a3-4a68-a694-3537062d7217",
   "metadata": {},
   "source": [
    "# Datos y tipos de datos:\n",
    "**ID**: Identificador del cliente, para nuestro análisis esta variable la descartar\n",
    "\n",
    "**outcome:**  (target) Resultado del crédito (paid off: crédito pagado, default: Credito con retraso o no pagado) (categórica)\n",
    "\n",
    "**purpose_:** (categórica) Propósito del crédito\n",
    "\n",
    "**dti:** (continua) Indice de ingreso a deuda. dti mide el porcentaje de los ingresos mensuales brutos de una persona que se destina al pago de deudas mensuales.\n",
    "\n",
    "**borrower_score:** (continua) Equivalente al score del buro de crédito\n",
    "\n",
    "**payment_inc_ratio:** (continua) El cociente entre el pago mensual del crédito y el ingreso mensual\n"
   ]
  },
  {
   "cell_type": "code",
   "execution_count": 3,
   "id": "c5320297-ce09-4863-9941-d53e34d055f9",
   "metadata": {},
   "outputs": [
    {
     "data": {
      "text/html": [
       "<div>\n",
       "<style scoped>\n",
       "    .dataframe tbody tr th:only-of-type {\n",
       "        vertical-align: middle;\n",
       "    }\n",
       "\n",
       "    .dataframe tbody tr th {\n",
       "        vertical-align: top;\n",
       "    }\n",
       "\n",
       "    .dataframe thead th {\n",
       "        text-align: right;\n",
       "    }\n",
       "</style>\n",
       "<table border=\"1\" class=\"dataframe\">\n",
       "  <thead>\n",
       "    <tr style=\"text-align: right;\">\n",
       "      <th></th>\n",
       "      <th>ID</th>\n",
       "      <th>outcome</th>\n",
       "      <th>purpose_</th>\n",
       "      <th>dti</th>\n",
       "      <th>borrower_score</th>\n",
       "      <th>payment_inc_ratio</th>\n",
       "    </tr>\n",
       "  </thead>\n",
       "  <tbody>\n",
       "    <tr>\n",
       "      <th>0</th>\n",
       "      <td>32109</td>\n",
       "      <td>paid off</td>\n",
       "      <td>debt_consolidation</td>\n",
       "      <td>21.23</td>\n",
       "      <td>0.40</td>\n",
       "      <td>5.11135</td>\n",
       "    </tr>\n",
       "    <tr>\n",
       "      <th>1</th>\n",
       "      <td>16982</td>\n",
       "      <td>default</td>\n",
       "      <td>credit_card</td>\n",
       "      <td>15.49</td>\n",
       "      <td>0.40</td>\n",
       "      <td>5.43165</td>\n",
       "    </tr>\n",
       "    <tr>\n",
       "      <th>2</th>\n",
       "      <td>25335</td>\n",
       "      <td>paid off</td>\n",
       "      <td>debt_consolidation</td>\n",
       "      <td>27.30</td>\n",
       "      <td>0.70</td>\n",
       "      <td>9.23003</td>\n",
       "    </tr>\n",
       "    <tr>\n",
       "      <th>3</th>\n",
       "      <td>34580</td>\n",
       "      <td>paid off</td>\n",
       "      <td>major_purchase</td>\n",
       "      <td>21.11</td>\n",
       "      <td>0.40</td>\n",
       "      <td>2.33482</td>\n",
       "    </tr>\n",
       "    <tr>\n",
       "      <th>4</th>\n",
       "      <td>14424</td>\n",
       "      <td>default</td>\n",
       "      <td>debt_consolidation</td>\n",
       "      <td>16.46</td>\n",
       "      <td>0.45</td>\n",
       "      <td>12.10320</td>\n",
       "    </tr>\n",
       "  </tbody>\n",
       "</table>\n",
       "</div>"
      ],
      "text/plain": [
       "      ID   outcome            purpose_    dti  borrower_score  \\\n",
       "0  32109  paid off  debt_consolidation  21.23            0.40   \n",
       "1  16982   default         credit_card  15.49            0.40   \n",
       "2  25335  paid off  debt_consolidation  27.30            0.70   \n",
       "3  34580  paid off      major_purchase  21.11            0.40   \n",
       "4  14424   default  debt_consolidation  16.46            0.45   \n",
       "\n",
       "   payment_inc_ratio  \n",
       "0            5.11135  \n",
       "1            5.43165  \n",
       "2            9.23003  \n",
       "3            2.33482  \n",
       "4           12.10320  "
      ]
     },
     "execution_count": 3,
     "metadata": {},
     "output_type": "execute_result"
    }
   ],
   "source": [
    "datos.head()"
   ]
  },
  {
   "cell_type": "markdown",
   "id": "04fb6841-5919-4b60-b6db-7a8c657163cb",
   "metadata": {},
   "source": [
    "# Paso 0. Preprocesamiento\n",
    "En esta etapa: codificación de los datos, selección de atributos, escalamiento de los datos,..."
   ]
  },
  {
   "cell_type": "code",
   "execution_count": 4,
   "id": "78b1a56a-f28f-412c-bc8a-6324bdf30a92",
   "metadata": {},
   "outputs": [],
   "source": [
    "# Descartamos el ID\n",
    "datos=datos.drop(\"ID\", axis=1)"
   ]
  },
  {
   "cell_type": "code",
   "execution_count": 5,
   "id": "d022a1cf-284b-42cf-a81c-98fcd624aa1d",
   "metadata": {},
   "outputs": [
    {
     "name": "stdout",
     "output_type": "stream",
     "text": [
      "<class 'pandas.core.frame.DataFrame'>\n",
      "RangeIndex: 3000 entries, 0 to 2999\n",
      "Data columns (total 5 columns):\n",
      " #   Column             Non-Null Count  Dtype  \n",
      "---  ------             --------------  -----  \n",
      " 0   outcome            3000 non-null   object \n",
      " 1   purpose_           3000 non-null   object \n",
      " 2   dti                3000 non-null   float64\n",
      " 3   borrower_score     3000 non-null   float64\n",
      " 4   payment_inc_ratio  3000 non-null   float64\n",
      "dtypes: float64(3), object(2)\n",
      "memory usage: 117.3+ KB\n"
     ]
    }
   ],
   "source": [
    "# Revisar la base datos\n",
    "datos.info()"
   ]
  },
  {
   "cell_type": "code",
   "execution_count": 6,
   "id": "2985c14f-2a5a-4439-a6db-2faae423c3af",
   "metadata": {},
   "outputs": [
    {
     "data": {
      "text/html": [
       "<div>\n",
       "<style scoped>\n",
       "    .dataframe tbody tr th:only-of-type {\n",
       "        vertical-align: middle;\n",
       "    }\n",
       "\n",
       "    .dataframe tbody tr th {\n",
       "        vertical-align: top;\n",
       "    }\n",
       "\n",
       "    .dataframe thead th {\n",
       "        text-align: right;\n",
       "    }\n",
       "</style>\n",
       "<table border=\"1\" class=\"dataframe\">\n",
       "  <thead>\n",
       "    <tr style=\"text-align: right;\">\n",
       "      <th></th>\n",
       "      <th>dti</th>\n",
       "      <th>borrower_score</th>\n",
       "      <th>payment_inc_ratio</th>\n",
       "    </tr>\n",
       "  </thead>\n",
       "  <tbody>\n",
       "    <tr>\n",
       "      <th>count</th>\n",
       "      <td>3000.000000</td>\n",
       "      <td>3000.000000</td>\n",
       "      <td>3000.000000</td>\n",
       "    </tr>\n",
       "    <tr>\n",
       "      <th>mean</th>\n",
       "      <td>16.120103</td>\n",
       "      <td>0.502333</td>\n",
       "      <td>8.137902</td>\n",
       "    </tr>\n",
       "    <tr>\n",
       "      <th>std</th>\n",
       "      <td>7.590890</td>\n",
       "      <td>0.128297</td>\n",
       "      <td>4.296310</td>\n",
       "    </tr>\n",
       "    <tr>\n",
       "      <th>min</th>\n",
       "      <td>0.000000</td>\n",
       "      <td>0.100000</td>\n",
       "      <td>0.221906</td>\n",
       "    </tr>\n",
       "    <tr>\n",
       "      <th>25%</th>\n",
       "      <td>10.362500</td>\n",
       "      <td>0.400000</td>\n",
       "      <td>4.758135</td>\n",
       "    </tr>\n",
       "    <tr>\n",
       "      <th>50%</th>\n",
       "      <td>15.985000</td>\n",
       "      <td>0.500000</td>\n",
       "      <td>7.588420</td>\n",
       "    </tr>\n",
       "    <tr>\n",
       "      <th>75%</th>\n",
       "      <td>21.360000</td>\n",
       "      <td>0.600000</td>\n",
       "      <td>11.091500</td>\n",
       "    </tr>\n",
       "    <tr>\n",
       "      <th>max</th>\n",
       "      <td>35.270000</td>\n",
       "      <td>0.900000</td>\n",
       "      <td>33.630900</td>\n",
       "    </tr>\n",
       "  </tbody>\n",
       "</table>\n",
       "</div>"
      ],
      "text/plain": [
       "               dti  borrower_score  payment_inc_ratio\n",
       "count  3000.000000     3000.000000        3000.000000\n",
       "mean     16.120103        0.502333           8.137902\n",
       "std       7.590890        0.128297           4.296310\n",
       "min       0.000000        0.100000           0.221906\n",
       "25%      10.362500        0.400000           4.758135\n",
       "50%      15.985000        0.500000           7.588420\n",
       "75%      21.360000        0.600000          11.091500\n",
       "max      35.270000        0.900000          33.630900"
      ]
     },
     "execution_count": 6,
     "metadata": {},
     "output_type": "execute_result"
    }
   ],
   "source": [
    "datos.describe()"
   ]
  },
  {
   "cell_type": "markdown",
   "id": "7726046b-02a0-44a3-8de9-61cd7853f594",
   "metadata": {},
   "source": [
    "### Para ver el efecto del escalamiento de los datos"
   ]
  },
  {
   "cell_type": "code",
   "execution_count": 7,
   "id": "1f730874-f936-4216-a109-d15625d5cd87",
   "metadata": {},
   "outputs": [
    {
     "data": {
      "text/html": [
       "<div>\n",
       "<style scoped>\n",
       "    .dataframe tbody tr th:only-of-type {\n",
       "        vertical-align: middle;\n",
       "    }\n",
       "\n",
       "    .dataframe tbody tr th {\n",
       "        vertical-align: top;\n",
       "    }\n",
       "\n",
       "    .dataframe thead th {\n",
       "        text-align: right;\n",
       "    }\n",
       "</style>\n",
       "<table border=\"1\" class=\"dataframe\">\n",
       "  <thead>\n",
       "    <tr style=\"text-align: right;\">\n",
       "      <th></th>\n",
       "      <th>dti</th>\n",
       "      <th>borrower_score</th>\n",
       "      <th>payment_inc_ratio</th>\n",
       "    </tr>\n",
       "  </thead>\n",
       "  <tbody>\n",
       "    <tr>\n",
       "      <th>count</th>\n",
       "      <td>3.000000e+03</td>\n",
       "      <td>3000.000000</td>\n",
       "      <td>3000.000000</td>\n",
       "    </tr>\n",
       "    <tr>\n",
       "      <th>mean</th>\n",
       "      <td>1.228491e-02</td>\n",
       "      <td>0.011667</td>\n",
       "      <td>0.086760</td>\n",
       "    </tr>\n",
       "    <tr>\n",
       "      <th>std</th>\n",
       "      <td>6.902378e-01</td>\n",
       "      <td>0.641483</td>\n",
       "      <td>0.678361</td>\n",
       "    </tr>\n",
       "    <tr>\n",
       "      <th>min</th>\n",
       "      <td>-1.453512e+00</td>\n",
       "      <td>-2.000000</td>\n",
       "      <td>-1.163128</td>\n",
       "    </tr>\n",
       "    <tr>\n",
       "      <th>25%</th>\n",
       "      <td>-5.112526e-01</td>\n",
       "      <td>-0.500000</td>\n",
       "      <td>-0.446885</td>\n",
       "    </tr>\n",
       "    <tr>\n",
       "      <th>50%</th>\n",
       "      <td>8.077306e-17</td>\n",
       "      <td>0.000000</td>\n",
       "      <td>0.000000</td>\n",
       "    </tr>\n",
       "    <tr>\n",
       "      <th>75%</th>\n",
       "      <td>4.887474e-01</td>\n",
       "      <td>0.500000</td>\n",
       "      <td>0.553115</td>\n",
       "    </tr>\n",
       "    <tr>\n",
       "      <th>max</th>\n",
       "      <td>1.753580e+00</td>\n",
       "      <td>2.000000</td>\n",
       "      <td>4.111950</td>\n",
       "    </tr>\n",
       "  </tbody>\n",
       "</table>\n",
       "</div>"
      ],
      "text/plain": [
       "                dti  borrower_score  payment_inc_ratio\n",
       "count  3.000000e+03     3000.000000        3000.000000\n",
       "mean   1.228491e-02        0.011667           0.086760\n",
       "std    6.902378e-01        0.641483           0.678361\n",
       "min   -1.453512e+00       -2.000000          -1.163128\n",
       "25%   -5.112526e-01       -0.500000          -0.446885\n",
       "50%    8.077306e-17        0.000000           0.000000\n",
       "75%    4.887474e-01        0.500000           0.553115\n",
       "max    1.753580e+00        2.000000           4.111950"
      ]
     },
     "execution_count": 7,
     "metadata": {},
     "output_type": "execute_result"
    }
   ],
   "source": [
    "escala=RobustScaler()\n",
    "X=escala.fit_transform(datos[[\"dti\",\"borrower_score\",\"payment_inc_ratio\"]])\n",
    "X=pd.DataFrame(X, columns=[\"dti\",\"borrower_score\",\"payment_inc_ratio\"])\n",
    "X.describe()"
   ]
  },
  {
   "cell_type": "markdown",
   "id": "eb1837e2-ec0b-42a2-b849-8d78253d52f5",
   "metadata": {},
   "source": [
    "...Continuamos con el análisis"
   ]
  },
  {
   "cell_type": "code",
   "execution_count": 8,
   "id": "a3c84c7a-26da-4b0d-907d-246a496936ac",
   "metadata": {},
   "outputs": [
    {
     "data": {
      "text/plain": [
       "outcome\n",
       "paid off    0.518333\n",
       "default     0.481667\n",
       "Name: proportion, dtype: float64"
      ]
     },
     "execution_count": 8,
     "metadata": {},
     "output_type": "execute_result"
    }
   ],
   "source": [
    "# Los datos están balanceados? SI\n",
    "datos[\"outcome\"].value_counts(normalize=True)"
   ]
  },
  {
   "cell_type": "code",
   "execution_count": 9,
   "id": "d778806a-17a3-4830-a0fe-bfb98ff0a4e1",
   "metadata": {},
   "outputs": [],
   "source": [
    "# Todo lo que sea letras lo debemos convertir a números, en este caso serías dos variables categóricas:\n",
    "# outcome y purpose_, aunque esta ultima la vamos a abordar de manera diferente"
   ]
  },
  {
   "cell_type": "code",
   "execution_count": 10,
   "id": "ce9c67fe-11c0-4065-9a3d-969d95779cec",
   "metadata": {},
   "outputs": [],
   "source": [
    "# Nueva linea para codificar las categorías del target  \n",
    "equivalencia={\"paid off\":0,\"default\":1}  # Hacemos un diccionario para las equivalencias de \"letras\" a números\n",
    "datos[\"outcome\"]=datos[\"outcome\"].map(equivalencia)  # Reescribimos las columna de diagnóstico\n",
    "datos[\"outcome\"]=datos[\"outcome\"].astype(\"category\") "
   ]
  },
  {
   "cell_type": "code",
   "execution_count": 11,
   "id": "576e6117-b7b1-4075-bf00-b84856bf77ee",
   "metadata": {},
   "outputs": [
    {
     "data": {
      "text/html": [
       "<div>\n",
       "<style scoped>\n",
       "    .dataframe tbody tr th:only-of-type {\n",
       "        vertical-align: middle;\n",
       "    }\n",
       "\n",
       "    .dataframe tbody tr th {\n",
       "        vertical-align: top;\n",
       "    }\n",
       "\n",
       "    .dataframe thead th {\n",
       "        text-align: right;\n",
       "    }\n",
       "</style>\n",
       "<table border=\"1\" class=\"dataframe\">\n",
       "  <thead>\n",
       "    <tr style=\"text-align: right;\">\n",
       "      <th></th>\n",
       "      <th>outcome</th>\n",
       "      <th>purpose_</th>\n",
       "      <th>dti</th>\n",
       "      <th>borrower_score</th>\n",
       "      <th>payment_inc_ratio</th>\n",
       "    </tr>\n",
       "  </thead>\n",
       "  <tbody>\n",
       "    <tr>\n",
       "      <th>0</th>\n",
       "      <td>0</td>\n",
       "      <td>debt_consolidation</td>\n",
       "      <td>21.23</td>\n",
       "      <td>0.40</td>\n",
       "      <td>5.11135</td>\n",
       "    </tr>\n",
       "    <tr>\n",
       "      <th>1</th>\n",
       "      <td>1</td>\n",
       "      <td>credit_card</td>\n",
       "      <td>15.49</td>\n",
       "      <td>0.40</td>\n",
       "      <td>5.43165</td>\n",
       "    </tr>\n",
       "    <tr>\n",
       "      <th>2</th>\n",
       "      <td>0</td>\n",
       "      <td>debt_consolidation</td>\n",
       "      <td>27.30</td>\n",
       "      <td>0.70</td>\n",
       "      <td>9.23003</td>\n",
       "    </tr>\n",
       "    <tr>\n",
       "      <th>3</th>\n",
       "      <td>0</td>\n",
       "      <td>major_purchase</td>\n",
       "      <td>21.11</td>\n",
       "      <td>0.40</td>\n",
       "      <td>2.33482</td>\n",
       "    </tr>\n",
       "    <tr>\n",
       "      <th>4</th>\n",
       "      <td>1</td>\n",
       "      <td>debt_consolidation</td>\n",
       "      <td>16.46</td>\n",
       "      <td>0.45</td>\n",
       "      <td>12.10320</td>\n",
       "    </tr>\n",
       "  </tbody>\n",
       "</table>\n",
       "</div>"
      ],
      "text/plain": [
       "  outcome            purpose_    dti  borrower_score  payment_inc_ratio\n",
       "0       0  debt_consolidation  21.23            0.40            5.11135\n",
       "1       1         credit_card  15.49            0.40            5.43165\n",
       "2       0  debt_consolidation  27.30            0.70            9.23003\n",
       "3       0      major_purchase  21.11            0.40            2.33482\n",
       "4       1  debt_consolidation  16.46            0.45           12.10320"
      ]
     },
     "execution_count": 11,
     "metadata": {},
     "output_type": "execute_result"
    }
   ],
   "source": [
    "datos.head()"
   ]
  },
  {
   "cell_type": "markdown",
   "id": "8d32b37b-514c-4fb0-88a8-fcbcace90a10",
   "metadata": {},
   "source": [
    "sns.pairplot(datos, hue=\"outcome\")"
   ]
  },
  {
   "cell_type": "code",
   "execution_count": 12,
   "id": "28192160-c263-4963-856e-c90fa6efaa1a",
   "metadata": {},
   "outputs": [
    {
     "data": {
      "text/plain": [
       "purpose_\n",
       "debt_consolidation    57.933333\n",
       "credit_card           17.500000\n",
       "other                 10.600000\n",
       "home_improvement       6.200000\n",
       "major_purchase         3.833333\n",
       "small_business         2.933333\n",
       "medical                1.000000\n",
       "Name: proportion, dtype: float64"
      ]
     },
     "execution_count": 12,
     "metadata": {},
     "output_type": "execute_result"
    }
   ],
   "source": [
    "# Cómo trabajamos con una covariable o atributo cualitativo? Creando variable dummies\n",
    "datos[\"purpose_\"].value_counts(normalize=True)*100"
   ]
  },
  {
   "cell_type": "markdown",
   "id": "de42cd81-a206-4f6d-b9b4-9df17128b8ea",
   "metadata": {},
   "source": [
    "## ¿Cuáles son los atributos relevantes para incluir en el modelo?"
   ]
  },
  {
   "cell_type": "code",
   "execution_count": 13,
   "id": "9736622a-a9bd-4271-8226-c5fcc95c749b",
   "metadata": {},
   "outputs": [
    {
     "data": {
      "text/plain": [
       "Chi2ContingencyResult(statistic=36.54917585703614, pvalue=2.1555343121927533e-06, dof=6, expected_freq=array([[272.125     , 252.875     ],\n",
       "       [900.86333333, 837.13666667],\n",
       "       [ 96.41      ,  89.59      ],\n",
       "       [ 59.60833333,  55.39166667],\n",
       "       [ 15.55      ,  14.45      ],\n",
       "       [164.83      , 153.17      ],\n",
       "       [ 45.61333333,  42.38666667]]))"
      ]
     },
     "execution_count": 13,
     "metadata": {},
     "output_type": "execute_result"
    }
   ],
   "source": [
    "# El propósito del crédito está asociado con el outcome?\n",
    "from scipy.stats import chi2_contingency\n",
    "tabla = pd.crosstab(datos[\"purpose_\"], datos[\"outcome\"])\n",
    "#tabla\n",
    "resultado=chi2_contingency(tabla)\n",
    "resultado\n",
    "# Prueba de hipótesis:\n",
    "# Ho: purpose_ y outcome son independientes\n",
    "# H1: Existe asociación entre las variables purpose_ y outcome"
   ]
  },
  {
   "cell_type": "code",
   "execution_count": 14,
   "id": "2c18ff89-a400-4ef8-9961-bd8042e7bc93",
   "metadata": {},
   "outputs": [],
   "source": [
    "# Como el p-value<0.05 la conclusión es que existe asociación entre purpose y outcome "
   ]
  },
  {
   "cell_type": "code",
   "execution_count": 15,
   "id": "2f3f190a-64f5-4454-951d-ae053ed755eb",
   "metadata": {},
   "outputs": [
    {
     "data": {
      "text/plain": [
       "array([[272.125     , 252.875     ],\n",
       "       [900.86333333, 837.13666667],\n",
       "       [ 96.41      ,  89.59      ],\n",
       "       [ 59.60833333,  55.39166667],\n",
       "       [ 15.55      ,  14.45      ],\n",
       "       [164.83      , 153.17      ],\n",
       "       [ 45.61333333,  42.38666667]])"
      ]
     },
     "execution_count": 15,
     "metadata": {},
     "output_type": "execute_result"
    }
   ],
   "source": [
    "resultado.expected_freq  # Bajo Ho es cierta"
   ]
  },
  {
   "cell_type": "code",
   "execution_count": 16,
   "id": "0778fbca-ba6b-4bd7-85c6-e0a26d02e9b7",
   "metadata": {},
   "outputs": [
    {
     "data": {
      "text/html": [
       "<div>\n",
       "<style scoped>\n",
       "    .dataframe tbody tr th:only-of-type {\n",
       "        vertical-align: middle;\n",
       "    }\n",
       "\n",
       "    .dataframe tbody tr th {\n",
       "        vertical-align: top;\n",
       "    }\n",
       "\n",
       "    .dataframe thead th {\n",
       "        text-align: right;\n",
       "    }\n",
       "</style>\n",
       "<table border=\"1\" class=\"dataframe\">\n",
       "  <thead>\n",
       "    <tr style=\"text-align: right;\">\n",
       "      <th>outcome</th>\n",
       "      <th>0</th>\n",
       "      <th>1</th>\n",
       "    </tr>\n",
       "    <tr>\n",
       "      <th>purpose_</th>\n",
       "      <th></th>\n",
       "      <th></th>\n",
       "    </tr>\n",
       "  </thead>\n",
       "  <tbody>\n",
       "    <tr>\n",
       "      <th>credit_card</th>\n",
       "      <td>318</td>\n",
       "      <td>207</td>\n",
       "    </tr>\n",
       "    <tr>\n",
       "      <th>debt_consolidation</th>\n",
       "      <td>876</td>\n",
       "      <td>862</td>\n",
       "    </tr>\n",
       "    <tr>\n",
       "      <th>home_improvement</th>\n",
       "      <td>106</td>\n",
       "      <td>80</td>\n",
       "    </tr>\n",
       "    <tr>\n",
       "      <th>major_purchase</th>\n",
       "      <td>66</td>\n",
       "      <td>49</td>\n",
       "    </tr>\n",
       "    <tr>\n",
       "      <th>medical</th>\n",
       "      <td>11</td>\n",
       "      <td>19</td>\n",
       "    </tr>\n",
       "    <tr>\n",
       "      <th>other</th>\n",
       "      <td>146</td>\n",
       "      <td>172</td>\n",
       "    </tr>\n",
       "    <tr>\n",
       "      <th>small_business</th>\n",
       "      <td>32</td>\n",
       "      <td>56</td>\n",
       "    </tr>\n",
       "  </tbody>\n",
       "</table>\n",
       "</div>"
      ],
      "text/plain": [
       "outcome               0    1\n",
       "purpose_                    \n",
       "credit_card         318  207\n",
       "debt_consolidation  876  862\n",
       "home_improvement    106   80\n",
       "major_purchase       66   49\n",
       "medical              11   19\n",
       "other               146  172\n",
       "small_business       32   56"
      ]
     },
     "execution_count": 16,
     "metadata": {},
     "output_type": "execute_result"
    }
   ],
   "source": [
    "tabla"
   ]
  },
  {
   "cell_type": "markdown",
   "id": "3cb3096b-7f40-4640-ae7e-da116afdf1e5",
   "metadata": {},
   "source": [
    "### Creamos las dummies para purpose_"
   ]
  },
  {
   "cell_type": "code",
   "execution_count": 17,
   "id": "aba38b2a-52c9-4dac-ac78-492d569aafca",
   "metadata": {},
   "outputs": [
    {
     "data": {
      "text/html": [
       "<div>\n",
       "<style scoped>\n",
       "    .dataframe tbody tr th:only-of-type {\n",
       "        vertical-align: middle;\n",
       "    }\n",
       "\n",
       "    .dataframe tbody tr th {\n",
       "        vertical-align: top;\n",
       "    }\n",
       "\n",
       "    .dataframe thead th {\n",
       "        text-align: right;\n",
       "    }\n",
       "</style>\n",
       "<table border=\"1\" class=\"dataframe\">\n",
       "  <thead>\n",
       "    <tr style=\"text-align: right;\">\n",
       "      <th></th>\n",
       "      <th>outcome</th>\n",
       "      <th>dti</th>\n",
       "      <th>borrower_score</th>\n",
       "      <th>payment_inc_ratio</th>\n",
       "      <th>purpose__credit_card</th>\n",
       "      <th>purpose__debt_consolidation</th>\n",
       "      <th>purpose__home_improvement</th>\n",
       "      <th>purpose__major_purchase</th>\n",
       "      <th>purpose__medical</th>\n",
       "      <th>purpose__other</th>\n",
       "      <th>purpose__small_business</th>\n",
       "    </tr>\n",
       "  </thead>\n",
       "  <tbody>\n",
       "    <tr>\n",
       "      <th>0</th>\n",
       "      <td>0</td>\n",
       "      <td>21.23</td>\n",
       "      <td>0.40</td>\n",
       "      <td>5.11135</td>\n",
       "      <td>False</td>\n",
       "      <td>True</td>\n",
       "      <td>False</td>\n",
       "      <td>False</td>\n",
       "      <td>False</td>\n",
       "      <td>False</td>\n",
       "      <td>False</td>\n",
       "    </tr>\n",
       "    <tr>\n",
       "      <th>1</th>\n",
       "      <td>1</td>\n",
       "      <td>15.49</td>\n",
       "      <td>0.40</td>\n",
       "      <td>5.43165</td>\n",
       "      <td>True</td>\n",
       "      <td>False</td>\n",
       "      <td>False</td>\n",
       "      <td>False</td>\n",
       "      <td>False</td>\n",
       "      <td>False</td>\n",
       "      <td>False</td>\n",
       "    </tr>\n",
       "    <tr>\n",
       "      <th>2</th>\n",
       "      <td>0</td>\n",
       "      <td>27.30</td>\n",
       "      <td>0.70</td>\n",
       "      <td>9.23003</td>\n",
       "      <td>False</td>\n",
       "      <td>True</td>\n",
       "      <td>False</td>\n",
       "      <td>False</td>\n",
       "      <td>False</td>\n",
       "      <td>False</td>\n",
       "      <td>False</td>\n",
       "    </tr>\n",
       "    <tr>\n",
       "      <th>3</th>\n",
       "      <td>0</td>\n",
       "      <td>21.11</td>\n",
       "      <td>0.40</td>\n",
       "      <td>2.33482</td>\n",
       "      <td>False</td>\n",
       "      <td>False</td>\n",
       "      <td>False</td>\n",
       "      <td>True</td>\n",
       "      <td>False</td>\n",
       "      <td>False</td>\n",
       "      <td>False</td>\n",
       "    </tr>\n",
       "    <tr>\n",
       "      <th>4</th>\n",
       "      <td>1</td>\n",
       "      <td>16.46</td>\n",
       "      <td>0.45</td>\n",
       "      <td>12.10320</td>\n",
       "      <td>False</td>\n",
       "      <td>True</td>\n",
       "      <td>False</td>\n",
       "      <td>False</td>\n",
       "      <td>False</td>\n",
       "      <td>False</td>\n",
       "      <td>False</td>\n",
       "    </tr>\n",
       "  </tbody>\n",
       "</table>\n",
       "</div>"
      ],
      "text/plain": [
       "  outcome    dti  borrower_score  payment_inc_ratio  purpose__credit_card  \\\n",
       "0       0  21.23            0.40            5.11135                 False   \n",
       "1       1  15.49            0.40            5.43165                  True   \n",
       "2       0  27.30            0.70            9.23003                 False   \n",
       "3       0  21.11            0.40            2.33482                 False   \n",
       "4       1  16.46            0.45           12.10320                 False   \n",
       "\n",
       "   purpose__debt_consolidation  purpose__home_improvement  \\\n",
       "0                         True                      False   \n",
       "1                        False                      False   \n",
       "2                         True                      False   \n",
       "3                        False                      False   \n",
       "4                         True                      False   \n",
       "\n",
       "   purpose__major_purchase  purpose__medical  purpose__other  \\\n",
       "0                    False             False           False   \n",
       "1                    False             False           False   \n",
       "2                    False             False           False   \n",
       "3                     True             False           False   \n",
       "4                    False             False           False   \n",
       "\n",
       "   purpose__small_business  \n",
       "0                    False  \n",
       "1                    False  \n",
       "2                    False  \n",
       "3                    False  \n",
       "4                    False  "
      ]
     },
     "execution_count": 17,
     "metadata": {},
     "output_type": "execute_result"
    }
   ],
   "source": [
    "datos=pd.get_dummies(datos,columns=[\"purpose_\"])\n",
    "datos.head()"
   ]
  },
  {
   "cell_type": "markdown",
   "id": "7e5afa79-415f-4001-bb64-ff85f9b719aa",
   "metadata": {},
   "source": [
    "**NOTA:** Selección de los atributos. En dos etapas, una para las continuas y la segunda para las categóricas"
   ]
  },
  {
   "cell_type": "code",
   "execution_count": 18,
   "id": "bac054e9-7137-479e-9dad-1056dd04ac36",
   "metadata": {},
   "outputs": [
    {
     "data": {
      "text/plain": [
       "Index(['dti', 'borrower_score', 'payment_inc_ratio'], dtype='object')"
      ]
     },
     "execution_count": 18,
     "metadata": {},
     "output_type": "execute_result"
    }
   ],
   "source": [
    "# Selección de atributos\n",
    "from sklearn.feature_selection import SelectKBest, f_classif, chi2\n",
    "y=datos[\"outcome\"]\n",
    "X_continuas=datos[['dti', 'borrower_score', 'payment_inc_ratio']]\n",
    "X_categoricas= datos[['purpose__credit_card', 'purpose__debt_consolidation','purpose__home_improvement', 'purpose__major_purchase','purpose__medical', 'purpose__other', 'purpose__small_business']]\n",
    "selector=SelectKBest(score_func=f_classif,k=3) \n",
    "selector.fit_transform(X_continuas,y)                     # Aquí ya hace la tarea de seleccionar los mejores atributos\n",
    "\n",
    "# Para que me diga cuáles son los k mejores atributos ejecutamos\n",
    "X_continuas.columns[selector.get_support()]"
   ]
  },
  {
   "cell_type": "code",
   "execution_count": 19,
   "id": "70689877-9406-4f50-a7a8-db93766f1e82",
   "metadata": {},
   "outputs": [
    {
     "data": {
      "text/plain": [
       "Index(['purpose__credit_card', 'purpose__other', 'purpose__small_business'], dtype='object')"
      ]
     },
     "execution_count": 19,
     "metadata": {},
     "output_type": "execute_result"
    }
   ],
   "source": [
    "selector=SelectKBest(score_func=chi2,k=3) \n",
    "selector.fit_transform(X_categoricas,y)                     # Aquí ya hace la tarea de seleccionar los mejores atributos\n",
    "\n",
    "# Para que me diga cuáles son los k mejores atributos ejecutamos\n",
    "X_categoricas.columns[selector.get_support()]"
   ]
  },
  {
   "cell_type": "code",
   "execution_count": 20,
   "id": "0cba3090-300c-44bb-9e2f-aeddca680faf",
   "metadata": {},
   "outputs": [
    {
     "data": {
      "text/html": [
       "<div>\n",
       "<style scoped>\n",
       "    .dataframe tbody tr th:only-of-type {\n",
       "        vertical-align: middle;\n",
       "    }\n",
       "\n",
       "    .dataframe tbody tr th {\n",
       "        vertical-align: top;\n",
       "    }\n",
       "\n",
       "    .dataframe thead th {\n",
       "        text-align: right;\n",
       "    }\n",
       "</style>\n",
       "<table border=\"1\" class=\"dataframe\">\n",
       "  <thead>\n",
       "    <tr style=\"text-align: right;\">\n",
       "      <th></th>\n",
       "      <th>borrower_score</th>\n",
       "      <th>payment_inc_ratio</th>\n",
       "      <th>dti</th>\n",
       "      <th>purpose__credit_card</th>\n",
       "      <th>purpose__other</th>\n",
       "      <th>purpose__small_business</th>\n",
       "    </tr>\n",
       "  </thead>\n",
       "  <tbody>\n",
       "    <tr>\n",
       "      <th>0</th>\n",
       "      <td>0.40</td>\n",
       "      <td>5.11135</td>\n",
       "      <td>21.23</td>\n",
       "      <td>False</td>\n",
       "      <td>False</td>\n",
       "      <td>False</td>\n",
       "    </tr>\n",
       "    <tr>\n",
       "      <th>1</th>\n",
       "      <td>0.40</td>\n",
       "      <td>5.43165</td>\n",
       "      <td>15.49</td>\n",
       "      <td>True</td>\n",
       "      <td>False</td>\n",
       "      <td>False</td>\n",
       "    </tr>\n",
       "    <tr>\n",
       "      <th>2</th>\n",
       "      <td>0.70</td>\n",
       "      <td>9.23003</td>\n",
       "      <td>27.30</td>\n",
       "      <td>False</td>\n",
       "      <td>False</td>\n",
       "      <td>False</td>\n",
       "    </tr>\n",
       "    <tr>\n",
       "      <th>3</th>\n",
       "      <td>0.40</td>\n",
       "      <td>2.33482</td>\n",
       "      <td>21.11</td>\n",
       "      <td>False</td>\n",
       "      <td>False</td>\n",
       "      <td>False</td>\n",
       "    </tr>\n",
       "    <tr>\n",
       "      <th>4</th>\n",
       "      <td>0.45</td>\n",
       "      <td>12.10320</td>\n",
       "      <td>16.46</td>\n",
       "      <td>False</td>\n",
       "      <td>False</td>\n",
       "      <td>False</td>\n",
       "    </tr>\n",
       "  </tbody>\n",
       "</table>\n",
       "</div>"
      ],
      "text/plain": [
       "   borrower_score  payment_inc_ratio    dti  purpose__credit_card  \\\n",
       "0            0.40            5.11135  21.23                 False   \n",
       "1            0.40            5.43165  15.49                  True   \n",
       "2            0.70            9.23003  27.30                 False   \n",
       "3            0.40            2.33482  21.11                 False   \n",
       "4            0.45           12.10320  16.46                 False   \n",
       "\n",
       "   purpose__other  purpose__small_business  \n",
       "0           False                    False  \n",
       "1           False                    False  \n",
       "2           False                    False  \n",
       "3           False                    False  \n",
       "4           False                    False  "
      ]
     },
     "execution_count": 20,
     "metadata": {},
     "output_type": "execute_result"
    }
   ],
   "source": [
    "# Seleccionamos los atributos y el target\n",
    "y=datos[\"outcome\"]      # target\n",
    "X=datos[[\"borrower_score\",\"payment_inc_ratio\",\"dti\",\"purpose__credit_card\",'purpose__other',\"purpose__small_business\"]] #atributos\n",
    "X.head()"
   ]
  },
  {
   "cell_type": "code",
   "execution_count": 21,
   "id": "b67054ca-519a-4dfb-ac63-e6e57bd9706b",
   "metadata": {},
   "outputs": [
    {
     "data": {
      "text/plain": [
       "(3000, 6)"
      ]
     },
     "execution_count": 21,
     "metadata": {},
     "output_type": "execute_result"
    }
   ],
   "source": [
    "X.shape"
   ]
  },
  {
   "cell_type": "markdown",
   "id": "b365cd91-0173-45c5-8cf7-2b47bb3a5fb7",
   "metadata": {},
   "source": [
    "# Paso 1: Definir el modelo"
   ]
  },
  {
   "cell_type": "code",
   "execution_count": 22,
   "id": "7d19d2ca-5531-400a-933c-30bfe21e70f7",
   "metadata": {},
   "outputs": [],
   "source": [
    "modelo=KNeighborsClassifier()  # Definimos el modelo"
   ]
  },
  {
   "cell_type": "markdown",
   "id": "7eef46e9-d770-49ed-808f-eacff24ade23",
   "metadata": {},
   "source": [
    "### Paso 1.1. Métrica del desempeño del modelo, antes de seleccionar el mejor modelo\n",
    "¿Cuál es el número adecuado de vecinos que debemos emplear en el método?. Si ya lo supiéramos\n",
    "por ejemplo k"
   ]
  },
  {
   "cell_type": "code",
   "execution_count": 23,
   "id": "6665b775-3a17-4f75-ba79-d545f50177ab",
   "metadata": {},
   "outputs": [],
   "source": [
    "# Estandarizar las continuas y dejar pasar las demás\n",
    "# Es decir, solo aplicamos transformación a las variables continuas\n",
    "from sklearn.compose import make_column_transformer              # Dar tratamiento diferenciado a cada columna\n",
    "colum_trans= make_column_transformer((StandardScaler(), [\"borrower_score\",\"payment_inc_ratio\",\"dti\"]),remainder='passthrough')"
   ]
  },
  {
   "cell_type": "raw",
   "id": "78a47864-710d-42be-a698-a12c9a3040f1",
   "metadata": {},
   "source": [
    "X.head()"
   ]
  },
  {
   "cell_type": "raw",
   "id": "599c8711-3df5-40c3-a50d-e2255efe91cd",
   "metadata": {},
   "source": [
    "colum_trans.fit_transform(X)"
   ]
  },
  {
   "cell_type": "code",
   "execution_count": 24,
   "id": "d786962d-973d-45d5-b986-ccb3f6afce4b",
   "metadata": {},
   "outputs": [
    {
     "name": "stdout",
     "output_type": "stream",
     "text": [
      "El desempeño promedio del modelo con 27 vecinos es: 61.27% de precision\n"
     ]
    }
   ],
   "source": [
    "from sklearn.pipeline import make_pipeline\n",
    "\n",
    "# Cómo incluimos el escalamiento de los datos en una validación cruzada:\n",
    "# i) dividir al conjunto en k-folds\n",
    "# ii) utilizamos k-1 folds de train y el fold restante de prueba\n",
    "# iii) (pipe) vamos entrenar un escalamiento diferenciado, una estandarización en las continuas y dejamos pasar las categóricas\n",
    "# iv) escalamos los datos de train con el escalamiento elegido (i.e transformamos los datos de entrenamiento)\n",
    "# v) Utilizando los datos transformados entrenamos el modelo : KNeighborsClassifier(n_neighbors=7)\n",
    "# vi) escalamos los datos de prueba (el fold reservado) empleando el escalamiento entrenado en iii)\n",
    "# vii) hacemos la predicciones con el modelo entrenado y los datos de prueba transformados\n",
    "# viii) Medimos el desempeño preditivo del modelo empleando la métrica definida en scoring\n",
    "# ix) Reportamos la métrica\n",
    "k=27\n",
    "pipe=make_pipeline(colum_trans,KNeighborsClassifier(n_neighbors=k))\n",
    "scores=cross_val_score(pipe,X,y,cv=10,scoring=\"precision\",n_jobs=-1)\n",
    "print(f\"El desempeño promedio del modelo con {k} vecinos es: {scores.mean()*100:.2f}% de precision\")  "
   ]
  },
  {
   "cell_type": "markdown",
   "id": "43589c2e-4470-43ab-ac8c-bff7037a1813",
   "metadata": {},
   "source": [
    "## ¿Cuál es el mejor valor de k?"
   ]
  },
  {
   "cell_type": "markdown",
   "id": "fbbfe8d9-7ac2-4c94-bc5c-1cfb8f9a4634",
   "metadata": {},
   "source": [
    "# Paso 2: Calibrar el modelo, para seleccionar el mejor modelo"
   ]
  },
  {
   "cell_type": "code",
   "execution_count": 25,
   "id": "00662691-2586-4637-a11d-fc1ddc35f7d4",
   "metadata": {},
   "outputs": [
    {
     "name": "stdout",
     "output_type": "stream",
     "text": [
      "La mejor configuración de parámetros es: {'kneighborsclassifier__n_neighbors': 41, 'kneighborsclassifier__p': 2}\n",
      "La exactitud de la mejor configuración: 0.6214265475855195\n"
     ]
    }
   ],
   "source": [
    "# Paso i: Definir el espacio parametral\n",
    "espacio_param={\"kneighborsclassifier__n_neighbors\":np.arange(1,60,2),\"kneighborsclassifier__p\":[1,2]}\n",
    "# Paso ii: Definir el flujo de procesamiento: pipe\n",
    "pipe=make_pipeline(colum_trans,KNeighborsClassifier())  # En palabras: Primero escalar los datos y luego entrenar el modelo\n",
    "# Paso iii) Definir el diseño de validación cruzada\n",
    "cv_diseño=RepeatedKFold(n_splits=10,n_repeats=5)\n",
    "# Definimos la rejilla de búsqueda\n",
    "rejilla=GridSearchCV(pipe,param_grid=espacio_param,scoring=\"precision\",cv=cv_diseño,n_jobs=-1)\n",
    "rejilla.fit(X,y)\n",
    "print(\"La mejor configuración de parámetros es:\", rejilla.best_params_)\n",
    "print(\"La exactitud de la mejor configuración:\", rejilla.best_score_)"
   ]
  },
  {
   "cell_type": "markdown",
   "id": "74348099-1796-4d2f-96ee-be40b590b53a",
   "metadata": {},
   "source": [
    "**OJO:** La métrica puede estar sobreestimada... necesitamos hacer una validación cruzada anidada para tener una métrica más realista"
   ]
  },
  {
   "cell_type": "markdown",
   "id": "942fc188-3c94-4a95-acc1-17fe46261a6b",
   "metadata": {},
   "source": [
    "### Validación cruzada anidada"
   ]
  },
  {
   "cell_type": "code",
   "execution_count": 26,
   "id": "2f73093c-7520-40d6-b9ce-a8cbe39155bd",
   "metadata": {},
   "outputs": [],
   "source": [
    "# Paso i: Definir el espacio parametral\n",
    "espacio_param={\"kneighborsclassifier__n_neighbors\":np.arange(1,60,2),\"kneighborsclassifier__p\":[1,2]}\n",
    "# Paso ii: Definir el flujo de procesamiento: pipe\n",
    "pipe=make_pipeline(colum_trans,KNeighborsClassifier())  # En palabras: Primero escalar los datos y luego entrenar el modelo\n",
    "# Paso iii) Definir el diseño de validación cruzada interna y externa\n",
    "cv_interna=RepeatedKFold(n_splits=10,n_repeats=5)\n",
    "cv_externa=StratifiedKFold(n_splits=10)\n",
    "# Definimos la rejilla de búesqueda\n",
    "rejilla=GridSearchCV(pipe,param_grid=espacio_param,scoring=\"precision\",cv=cv_interna,n_jobs=-1)\n",
    "scores=cross_val_score(rejilla,X,y,scoring=\"precision\",cv=cv_externa,n_jobs=-1)"
   ]
  },
  {
   "cell_type": "code",
   "execution_count": 33,
   "id": "23181492-c1ef-4aaa-a600-cd827d66998f",
   "metadata": {},
   "outputs": [
    {
     "name": "stdout",
     "output_type": "stream",
     "text": [
      "La precisión promedio es: 0.6156 +/- 0.0076\n"
     ]
    }
   ],
   "source": [
    "from scipy import stats\n",
    "#print(\"Exactitud promedio:\", scores.mean())\n",
    "#print(\"Error estándar de la media muestral:\",stats.sem(scores))              # SE (Error Estándar) = Desviación Estándar Muestral / raiz_cuadrada(tamaño de la media muestral)\n",
    "print(f\"La precisión promedio es: {scores.mean():.4f} +/- {stats.sem(scores):.4f}\") "
   ]
  },
  {
   "cell_type": "markdown",
   "id": "620416e9-5d0a-4510-b73d-eea3138f9723",
   "metadata": {},
   "source": [
    "# Etapa final del entrenamiento"
   ]
  },
  {
   "cell_type": "code",
   "execution_count": 34,
   "id": "c13ecf54-3056-46ca-9b53-cbcce29e3289",
   "metadata": {},
   "outputs": [
    {
     "data": {
      "text/html": [
       "<style>#sk-container-id-2 {color: black;}#sk-container-id-2 pre{padding: 0;}#sk-container-id-2 div.sk-toggleable {background-color: white;}#sk-container-id-2 label.sk-toggleable__label {cursor: pointer;display: block;width: 100%;margin-bottom: 0;padding: 0.3em;box-sizing: border-box;text-align: center;}#sk-container-id-2 label.sk-toggleable__label-arrow:before {content: \"▸\";float: left;margin-right: 0.25em;color: #696969;}#sk-container-id-2 label.sk-toggleable__label-arrow:hover:before {color: black;}#sk-container-id-2 div.sk-estimator:hover label.sk-toggleable__label-arrow:before {color: black;}#sk-container-id-2 div.sk-toggleable__content {max-height: 0;max-width: 0;overflow: hidden;text-align: left;background-color: #f0f8ff;}#sk-container-id-2 div.sk-toggleable__content pre {margin: 0.2em;color: black;border-radius: 0.25em;background-color: #f0f8ff;}#sk-container-id-2 input.sk-toggleable__control:checked~div.sk-toggleable__content {max-height: 200px;max-width: 100%;overflow: auto;}#sk-container-id-2 input.sk-toggleable__control:checked~label.sk-toggleable__label-arrow:before {content: \"▾\";}#sk-container-id-2 div.sk-estimator input.sk-toggleable__control:checked~label.sk-toggleable__label {background-color: #d4ebff;}#sk-container-id-2 div.sk-label input.sk-toggleable__control:checked~label.sk-toggleable__label {background-color: #d4ebff;}#sk-container-id-2 input.sk-hidden--visually {border: 0;clip: rect(1px 1px 1px 1px);clip: rect(1px, 1px, 1px, 1px);height: 1px;margin: -1px;overflow: hidden;padding: 0;position: absolute;width: 1px;}#sk-container-id-2 div.sk-estimator {font-family: monospace;background-color: #f0f8ff;border: 1px dotted black;border-radius: 0.25em;box-sizing: border-box;margin-bottom: 0.5em;}#sk-container-id-2 div.sk-estimator:hover {background-color: #d4ebff;}#sk-container-id-2 div.sk-parallel-item::after {content: \"\";width: 100%;border-bottom: 1px solid gray;flex-grow: 1;}#sk-container-id-2 div.sk-label:hover label.sk-toggleable__label {background-color: #d4ebff;}#sk-container-id-2 div.sk-serial::before {content: \"\";position: absolute;border-left: 1px solid gray;box-sizing: border-box;top: 0;bottom: 0;left: 50%;z-index: 0;}#sk-container-id-2 div.sk-serial {display: flex;flex-direction: column;align-items: center;background-color: white;padding-right: 0.2em;padding-left: 0.2em;position: relative;}#sk-container-id-2 div.sk-item {position: relative;z-index: 1;}#sk-container-id-2 div.sk-parallel {display: flex;align-items: stretch;justify-content: center;background-color: white;position: relative;}#sk-container-id-2 div.sk-item::before, #sk-container-id-2 div.sk-parallel-item::before {content: \"\";position: absolute;border-left: 1px solid gray;box-sizing: border-box;top: 0;bottom: 0;left: 50%;z-index: -1;}#sk-container-id-2 div.sk-parallel-item {display: flex;flex-direction: column;z-index: 1;position: relative;background-color: white;}#sk-container-id-2 div.sk-parallel-item:first-child::after {align-self: flex-end;width: 50%;}#sk-container-id-2 div.sk-parallel-item:last-child::after {align-self: flex-start;width: 50%;}#sk-container-id-2 div.sk-parallel-item:only-child::after {width: 0;}#sk-container-id-2 div.sk-dashed-wrapped {border: 1px dashed gray;margin: 0 0.4em 0.5em 0.4em;box-sizing: border-box;padding-bottom: 0.4em;background-color: white;}#sk-container-id-2 div.sk-label label {font-family: monospace;font-weight: bold;display: inline-block;line-height: 1.2em;}#sk-container-id-2 div.sk-label-container {text-align: center;}#sk-container-id-2 div.sk-container {/* jupyter's `normalize.less` sets `[hidden] { display: none; }` but bootstrap.min.css set `[hidden] { display: none !important; }` so we also need the `!important` here to be able to override the default hidden behavior on the sphinx rendered scikit-learn.org. See: https://github.com/scikit-learn/scikit-learn/issues/21755 */display: inline-block !important;position: relative;}#sk-container-id-2 div.sk-text-repr-fallback {display: none;}</style><div id=\"sk-container-id-2\" class=\"sk-top-container\"><div class=\"sk-text-repr-fallback\"><pre>KNeighborsClassifier(n_neighbors=41)</pre><b>In a Jupyter environment, please rerun this cell to show the HTML representation or trust the notebook. <br />On GitHub, the HTML representation is unable to render, please try loading this page with nbviewer.org.</b></div><div class=\"sk-container\" hidden><div class=\"sk-item\"><div class=\"sk-estimator sk-toggleable\"><input class=\"sk-toggleable__control sk-hidden--visually\" id=\"sk-estimator-id-2\" type=\"checkbox\" checked><label for=\"sk-estimator-id-2\" class=\"sk-toggleable__label sk-toggleable__label-arrow\">KNeighborsClassifier</label><div class=\"sk-toggleable__content\"><pre>KNeighborsClassifier(n_neighbors=41)</pre></div></div></div></div></div>"
      ],
      "text/plain": [
       "KNeighborsClassifier(n_neighbors=41)"
      ]
     },
     "execution_count": 34,
     "metadata": {},
     "output_type": "execute_result"
    }
   ],
   "source": [
    "# IMPORTANTE: Para entrenar el modelo definitivo o final, vamos entrenarlo empleando TODOS* (descartando sspg) los datos\n",
    "# Paso 1. Etapa de escalamiento de los datos\n",
    "escala=colum_trans\n",
    "X_std=escala.fit_transform(X)   # El métod escala me va a servir para hacer predicciones futuras\n",
    "# Paso 2: Entrenar el algoritmo\n",
    "modelo_final=KNeighborsClassifier(n_neighbors=41,p=2)\n",
    "modelo_final.fit(X_std,y)"
   ]
  },
  {
   "cell_type": "code",
   "execution_count": 35,
   "id": "e1bef666-b71b-4ac2-ac4c-4b2d5cd269dd",
   "metadata": {},
   "outputs": [],
   "source": [
    "# Este modelo final ya lo pongo en producción... \n",
    "# Sabemos que el modelo tiene una precision del 0.6156 +/- 0.0076"
   ]
  },
  {
   "cell_type": "markdown",
   "id": "35b1298a-b682-41f9-8efe-e7b766e57c2a",
   "metadata": {},
   "source": [
    "### Predicciones en datos nuevos"
   ]
  },
  {
   "cell_type": "code",
   "execution_count": 36,
   "id": "13191a63-0f87-469f-88e2-3d55faa81605",
   "metadata": {},
   "outputs": [
    {
     "data": {
      "text/html": [
       "<div>\n",
       "<style scoped>\n",
       "    .dataframe tbody tr th:only-of-type {\n",
       "        vertical-align: middle;\n",
       "    }\n",
       "\n",
       "    .dataframe tbody tr th {\n",
       "        vertical-align: top;\n",
       "    }\n",
       "\n",
       "    .dataframe thead th {\n",
       "        text-align: right;\n",
       "    }\n",
       "</style>\n",
       "<table border=\"1\" class=\"dataframe\">\n",
       "  <thead>\n",
       "    <tr style=\"text-align: right;\">\n",
       "      <th></th>\n",
       "      <th>borrower_score</th>\n",
       "      <th>payment_inc_ratio</th>\n",
       "      <th>dti</th>\n",
       "      <th>purpose__credit_card</th>\n",
       "      <th>purpose__other</th>\n",
       "      <th>purpose__small_business</th>\n",
       "    </tr>\n",
       "  </thead>\n",
       "  <tbody>\n",
       "    <tr>\n",
       "      <th>0</th>\n",
       "      <td>0.2</td>\n",
       "      <td>10</td>\n",
       "      <td>33</td>\n",
       "      <td>1</td>\n",
       "      <td>0</td>\n",
       "      <td>0</td>\n",
       "    </tr>\n",
       "    <tr>\n",
       "      <th>1</th>\n",
       "      <td>0.5</td>\n",
       "      <td>25</td>\n",
       "      <td>10</td>\n",
       "      <td>0</td>\n",
       "      <td>1</td>\n",
       "      <td>0</td>\n",
       "    </tr>\n",
       "    <tr>\n",
       "      <th>2</th>\n",
       "      <td>0.7</td>\n",
       "      <td>7</td>\n",
       "      <td>5</td>\n",
       "      <td>0</td>\n",
       "      <td>1</td>\n",
       "      <td>0</td>\n",
       "    </tr>\n",
       "  </tbody>\n",
       "</table>\n",
       "</div>"
      ],
      "text/plain": [
       "   borrower_score  payment_inc_ratio  dti  purpose__credit_card  \\\n",
       "0             0.2                 10   33                     1   \n",
       "1             0.5                 25   10                     0   \n",
       "2             0.7                  7    5                     0   \n",
       "\n",
       "   purpose__other  purpose__small_business  \n",
       "0               0                        0  \n",
       "1               1                        0  \n",
       "2               1                        0  "
      ]
     },
     "execution_count": 36,
     "metadata": {},
     "output_type": "execute_result"
    }
   ],
   "source": [
    "\n",
    "datos_nuevos=pd.DataFrame({\"borrower_score\":[0.2,0.5,0.7],\n",
    "                           \"payment_inc_ratio\":[10,25,7],\n",
    "                           \"dti\":[33,10,5],\n",
    "                           \"purpose__credit_card\":[1,0,0],\n",
    "                           'purpose__other':[0,1,1],\n",
    "                           \"purpose__small_business\":[0,0,0]})\n",
    "datos_nuevos"
   ]
  },
  {
   "cell_type": "code",
   "execution_count": 37,
   "id": "5b823ca5-2007-42f8-ab1d-a769d2a868db",
   "metadata": {},
   "outputs": [],
   "source": [
    "#Escalamos los datos nuevos\n",
    "datos_nuevos_std=escala.transform(datos_nuevos) \n",
    "y_pred=modelo_final.predict(datos_nuevos_std)"
   ]
  },
  {
   "cell_type": "code",
   "execution_count": 38,
   "id": "f05f971c-3020-48a0-8811-77f7392f3080",
   "metadata": {},
   "outputs": [
    {
     "data": {
      "text/html": [
       "<div>\n",
       "<style scoped>\n",
       "    .dataframe tbody tr th:only-of-type {\n",
       "        vertical-align: middle;\n",
       "    }\n",
       "\n",
       "    .dataframe tbody tr th {\n",
       "        vertical-align: top;\n",
       "    }\n",
       "\n",
       "    .dataframe thead th {\n",
       "        text-align: right;\n",
       "    }\n",
       "</style>\n",
       "<table border=\"1\" class=\"dataframe\">\n",
       "  <thead>\n",
       "    <tr style=\"text-align: right;\">\n",
       "      <th></th>\n",
       "      <th>borrower_score</th>\n",
       "      <th>payment_inc_ratio</th>\n",
       "      <th>dti</th>\n",
       "      <th>purpose__credit_card</th>\n",
       "      <th>purpose__other</th>\n",
       "      <th>purpose__small_business</th>\n",
       "      <th>outcome*</th>\n",
       "    </tr>\n",
       "  </thead>\n",
       "  <tbody>\n",
       "    <tr>\n",
       "      <th>0</th>\n",
       "      <td>0.2</td>\n",
       "      <td>10</td>\n",
       "      <td>33</td>\n",
       "      <td>1</td>\n",
       "      <td>0</td>\n",
       "      <td>0</td>\n",
       "      <td>Default</td>\n",
       "    </tr>\n",
       "    <tr>\n",
       "      <th>1</th>\n",
       "      <td>0.5</td>\n",
       "      <td>25</td>\n",
       "      <td>10</td>\n",
       "      <td>0</td>\n",
       "      <td>1</td>\n",
       "      <td>0</td>\n",
       "      <td>Default</td>\n",
       "    </tr>\n",
       "    <tr>\n",
       "      <th>2</th>\n",
       "      <td>0.7</td>\n",
       "      <td>7</td>\n",
       "      <td>5</td>\n",
       "      <td>0</td>\n",
       "      <td>1</td>\n",
       "      <td>0</td>\n",
       "      <td>paid off</td>\n",
       "    </tr>\n",
       "  </tbody>\n",
       "</table>\n",
       "</div>"
      ],
      "text/plain": [
       "   borrower_score  payment_inc_ratio  dti  purpose__credit_card  \\\n",
       "0             0.2                 10   33                     1   \n",
       "1             0.5                 25   10                     0   \n",
       "2             0.7                  7    5                     0   \n",
       "\n",
       "   purpose__other  purpose__small_business  outcome*  \n",
       "0               0                        0   Default  \n",
       "1               1                        0   Default  \n",
       "2               1                        0  paid off  "
      ]
     },
     "execution_count": 38,
     "metadata": {},
     "output_type": "execute_result"
    }
   ],
   "source": [
    "# Para obtener los diagnósticos en la denominación original\n",
    "equivalencia_inverso={0:'paid off', 1:'Default'}\n",
    "nuevas=pd.Series(y_pred).map(equivalencia_inverso)\n",
    "datos_nuevos[\"outcome*\"]=nuevas\n",
    "datos_nuevos"
   ]
  },
  {
   "cell_type": "markdown",
   "id": "ee6ab555-2189-4eca-b6e9-0610093c1423",
   "metadata": {},
   "source": [
    "# Nota: \n",
    "En los dos primeros casos estamos 61.56% seguros de que son clientes que van a caer en default"
   ]
  },
  {
   "cell_type": "code",
   "execution_count": null,
   "id": "8fbcbae8-76a2-45bc-9a80-197fe455520c",
   "metadata": {},
   "outputs": [],
   "source": []
  }
 ],
 "metadata": {
  "kernelspec": {
   "display_name": "Python 3 (ipykernel)",
   "language": "python",
   "name": "python3"
  },
  "language_info": {
   "codemirror_mode": {
    "name": "ipython",
    "version": 3
   },
   "file_extension": ".py",
   "mimetype": "text/x-python",
   "name": "python",
   "nbconvert_exporter": "python",
   "pygments_lexer": "ipython3",
   "version": "3.11.5"
  }
 },
 "nbformat": 4,
 "nbformat_minor": 5
}
